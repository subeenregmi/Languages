{
 "cells": [
  {
   "cell_type": "markdown",
   "metadata": {
    "deletable": false,
    "nbgrader": {
     "cell_type": "markdown",
     "checksum": "ec57bc42866c0e3ec4cb81285da7bcf4",
     "grade": false,
     "grade_id": "cell-06eb0ab990e028e8",
     "locked": true,
     "schema_version": 3,
     "solution": false,
     "task": false
    },
    "tags": []
   },
   "source": [
    "# Exercise Sheet 3\n",
    "## Instructions\n",
    "The instructions for this exercise sheet are the same as the previous, so this section is just a summary to serve as a reminder. Refer to the material on Moodle and at the start of Exercise Sheet 1 for more detail, and if you are unsure ask a tutor or post on the Q&A forum.\n",
    "\n",
    "Complete each question in the code cell provided, which will usually contain some skeleton code to help you start the question. Unless specified otherwise you may change the skeleton code as you wish, but your code must pass the formatting tests in the following code cell – if the cell runs without errors then your code is eligible for submission. However these will only test the basics of the question. Your code will be subject to additional hidden tests which will determine your grade. Make sure you thoroughly test your own code to check you think it works correctly before submission.\n",
    "\n",
    "**Note**: some of these exercises require manipulation of files. Provided you only modify the files as the exercises instruct you to, you should not have any compatibility problems. However errors might occur if you make a mistake and edit a file that we are only expecting you to read. So you may wish to test your code works with a fresh copy of the default files from Moodle. You can entirely replace the contents of the folder called `exercise-files` with a fresh copy. You still only need to submit this `.ipynb` file when you are done, no extra files."
   ]
  },
  {
   "cell_type": "markdown",
   "metadata": {
    "deletable": false,
    "editable": false,
    "nbgrader": {
     "cell_type": "markdown",
     "checksum": "4a89201fc7503cd34f1817b45d72fd3a",
     "grade": false,
     "grade_id": "cell-7e59df00e92786be",
     "locked": true,
     "schema_version": 3,
     "solution": false,
     "task": false
    }
   },
   "source": [
    "## Questions\n",
    "### Question 1\n",
    "In the UK, the National Lottery requires you to pick 6 numbers from 1 to 59 inclusive. There is a well known formula for calculating how many ways you can draw $x$ values from $y$ possible values, these are called [combinations](https://en.wikipedia.org/wiki/Combination). \n",
    "\n",
    "For this exercise, write a function which takes two positive integers `x` and `y`, where $x\\le y$, and returns the probability of winning the lottery jackpot, for `x` balls which are drawn from values `1-y` inclusive. The probability is equal to 1 divided by the number of possible combinations for that many balls.\n",
    "\n",
    "*Rather than calculate this manually, you are encouraged to use the* [`math`](https://docs.python.org/3/library/math.html) *module.*"
   ]
  },
  {
   "cell_type": "code",
   "execution_count": null,
   "metadata": {
    "deletable": false,
    "nbgrader": {
     "cell_type": "code",
     "checksum": "43567cd2411a831287bfbe72be87c4c1",
     "grade": false,
     "grade_id": "cell-c58008015c7f239d",
     "locked": false,
     "schema_version": 3,
     "solution": true,
     "task": false
    }
   },
   "outputs": [],
   "source": [
    "def lottery_probability(x, y):\n",
    "    # YOUR CODE HERE\n",
    "    raise NotImplementedError()"
   ]
  },
  {
   "cell_type": "code",
   "execution_count": null,
   "metadata": {
    "deletable": false,
    "editable": false,
    "nbgrader": {
     "cell_type": "code",
     "checksum": "55f0653e93b47d00baa113a8b1279f32",
     "grade": true,
     "grade_id": "cell-0f04eb504a1079d4",
     "locked": true,
     "points": 20,
     "schema_version": 3,
     "solution": false,
     "task": false
    }
   },
   "outputs": [],
   "source": [
    "assert(lottery_probability(6, 59) == 1/45057474)"
   ]
  },
  {
   "cell_type": "markdown",
   "metadata": {},
   "source": [
    "### Question 2\n",
    "Write a function that takes two integers `x` and `y` and returns a list containing every possible *combination* of lottery draw as a tuple, where the lottery draws `x` balls with the values `1-y` inclusive.\n",
    "\n",
    "So, if you set `x=6` and `y=59`, you should return a list of length 45057474, where each item is a different possible lottery draw, e.g. `(1, 2, 3, 4, 5, 6)` is one such draw. Order does not matter, so `(2, 3, 4, 5, 6, 1)` is considered the same draw.\n",
    "\n",
    "*Rather than calculate this manually, you are encouraged to use the* [`itertools`](https://docs.python.org/3/library/itertools.html) *module.*"
   ]
  },
  {
   "cell_type": "code",
   "execution_count": null,
   "metadata": {
    "deletable": false,
    "nbgrader": {
     "cell_type": "code",
     "checksum": "79744d952185c5d573763cbe936acf76",
     "grade": false,
     "grade_id": "cell-dddb8c4b6c7f9884",
     "locked": false,
     "schema_version": 3,
     "solution": true,
     "task": false
    }
   },
   "outputs": [],
   "source": [
    "def all_lottery_draws(x, y):\n",
    "    # YOUR CODE HERE\n",
    "    raise NotImplementedError()"
   ]
  },
  {
   "cell_type": "code",
   "execution_count": null,
   "metadata": {
    "deletable": false,
    "editable": false,
    "nbgrader": {
     "cell_type": "code",
     "checksum": "3e13aaf41bc52912267bc39478dfb9fd",
     "grade": true,
     "grade_id": "cell-a86a034f0371c48b",
     "locked": true,
     "points": 20,
     "schema_version": 3,
     "solution": false,
     "task": false
    }
   },
   "outputs": [],
   "source": [
    "assert(all_lottery_draws(2, 3) == [(1, 2), (1, 3), (2, 3)])"
   ]
  },
  {
   "cell_type": "markdown",
   "metadata": {
    "deletable": false,
    "editable": false,
    "nbgrader": {
     "cell_type": "markdown",
     "checksum": "83afed09c8d5807a7e71c8f9688d6aff",
     "grade": false,
     "grade_id": "cell-8d1bab01f2f5b8f7",
     "locked": true,
     "schema_version": 3,
     "solution": false,
     "task": false
    }
   },
   "source": [
    "### Question 3\n",
    "In the code below, the programmer has tried to write a function which accepts a two-dimensional list representing a mathematical matrix and a number, where the purpose of the function is to return a new list with each element multiplied by that number.\n",
    "\n",
    "Unfortunately, the code does not work as you would expect. First of all, run the function – you can use the given test case to work out why the results are wrong. Then, find and fix the error.\n",
    "\n",
    "Feel free to search online to find clues for why this is not working, although you have seen an explanation of the mechanics in the unit material. You may wish to use an additional module in your solution to fix the error, and you are in fact encouraged to do so, but you must work out what the module is for yourself!\n",
    "\n",
    "Please only use <a href=\"https://docs.python.org/3/library/\">Python standard library </a> to fix the error, but not Numpy or any other third-party library."
   ]
  },
  {
   "cell_type": "code",
   "execution_count": null,
   "metadata": {
    "deletable": false,
    "nbgrader": {
     "cell_type": "code",
     "checksum": "0b578911ed55e3ae45070215780209c5",
     "grade": false,
     "grade_id": "cell-e99128cf596349bc",
     "locked": false,
     "schema_version": 3,
     "solution": true,
     "task": false
    }
   },
   "outputs": [],
   "source": [
    "def matrix_scale(matrix, x):\n",
    "    # first copy the matrix so we do not modify the original\n",
    "    new_matrix = matrix.copy()\n",
    "    \n",
    "    for i in range(len(matrix)):\n",
    "        for j in range(len(matrix[i])):\n",
    "            new_matrix[i][j] = new_matrix[i][j] * x\n",
    "            \n",
    "    return new_matrix"
   ]
  },
  {
   "cell_type": "code",
   "execution_count": null,
   "metadata": {
    "deletable": false,
    "editable": false,
    "nbgrader": {
     "cell_type": "code",
     "checksum": "16b526235769272bacc430bd7b76c6a2",
     "grade": true,
     "grade_id": "cell-03851bb5a2450311",
     "locked": true,
     "points": 20,
     "schema_version": 3,
     "solution": false,
     "task": false
    }
   },
   "outputs": [],
   "source": [
    "my_matrix = [[1, 0, 0],\n",
    "             [0, 1, 0],\n",
    "             [0, 0, 1]]\n",
    "\n",
    "double = matrix_scale(my_matrix, 2)\n",
    "negation = matrix_scale(my_matrix, -1)\n",
    "\n",
    "assert(double == [[2, 0, 0], [0, 2, 0], [0, 0, 2]])\n",
    "assert(negation == [[-1, 0, 0], [0, -1, 0], [0, 0, -1]])\n"
   ]
  },
  {
   "cell_type": "markdown",
   "metadata": {},
   "source": [
    "### Question 4\n",
    "Write a function which takes two strings, which are both filenames for existing text files. Your function should compare the two files' contents, and return a list containing every line number where the files are different. Start numbering the files from 1 (the first line is line 1). If one file is longer than the other, every line not present should be considered unequal. If the files are identical, return an empty list. \n",
    "\n",
    "Note: in the unit material, we showed a file which did not end in a linefeed character on its final line, but this is generally considered bad form, all text files should be terminated by a linefeed. All inputs to your function *will* terminate in a linefeed character, but either way you do not need to worry about an \"empty line\" at the end of the file."
   ]
  },
  {
   "cell_type": "code",
   "execution_count": null,
   "metadata": {
    "deletable": false,
    "nbgrader": {
     "cell_type": "code",
     "checksum": "8aa7a4b4f3d4bd567637b1789849a39a",
     "grade": false,
     "grade_id": "cell-79f41a862640b444",
     "locked": false,
     "schema_version": 3,
     "solution": true,
     "task": false
    }
   },
   "outputs": [],
   "source": [
    "def diff(filename1, filename2):\n",
    "    # YOUR CODE HERE\n",
    "    raise NotImplementedError()"
   ]
  },
  {
   "cell_type": "code",
   "execution_count": null,
   "metadata": {
    "deletable": false,
    "editable": false,
    "nbgrader": {
     "cell_type": "code",
     "checksum": "4fcce6d6f50f7b221c8168a3397bed8f",
     "grade": true,
     "grade_id": "cell-4fdac4989a8a30c2",
     "locked": true,
     "points": 20,
     "schema_version": 3,
     "solution": false,
     "task": false
    }
   },
   "outputs": [],
   "source": [
    "assert(diff('./exercise-files/text_a.txt', './exercise-files/text_b.txt') == [3, 4, 6])\n",
    "assert(diff('./exercise-files/text_a.txt', './exercise-files/text_a.txt') == [])"
   ]
  },
  {
   "cell_type": "markdown",
   "metadata": {
    "deletable": false,
    "editable": false,
    "nbgrader": {
     "cell_type": "markdown",
     "checksum": "39e55e48d98fa634bbc39df66d547175",
     "grade": false,
     "grade_id": "cell-c825fb088528196c",
     "locked": true,
     "schema_version": 3,
     "solution": false,
     "task": false
    }
   },
   "source": [
    "### Question 5\n",
    "In this unit, we use a Jupyter extension called nbgrader to write these assignments. This adds extra metadata into each cell of the notebook to enable us to easily run tests on your code. Each cell that nbgrader knows about is given a cell ID to uniquely distinguish it – this helps identify which cell is which if, for example, you add additional cells into the notebook.\n",
    "\n",
    "Each Jupyter notebook is stored in a format called [JSON](https://en.wikipedia.org/wiki/JSON). This is a structured way of writing data which is easily machine-readable, and somewhat human-readable too. \n",
    "\n",
    "While I do not recommend editing the JSON encoded version of any of your assignments (if you break the tests you may get zero marks), you can read and decode the files using the Python [`json`](https://docs.python.org/3/library/json.html) module.\n",
    "\n",
    "In the cell below, write a function which takes a filename as a string. If the file is a Jupyter notebook that has nbgrader metadata in the first cell, then return the ID of that cell. Otherwise, return an empty string."
   ]
  },
  {
   "cell_type": "code",
   "execution_count": null,
   "metadata": {
    "deletable": false,
    "nbgrader": {
     "cell_type": "code",
     "checksum": "cc6db1d747d018fe197786693aed0a74",
     "grade": false,
     "grade_id": "cell-717b02ca63f2e9c0",
     "locked": false,
     "schema_version": 3,
     "solution": true,
     "task": false
    }
   },
   "outputs": [],
   "source": [
    "def get_first_cell_id(filename):\n",
    "    # YOUR CODE HERE\n",
    "    raise NotImplementedError()"
   ]
  },
  {
   "cell_type": "code",
   "execution_count": null,
   "metadata": {
    "deletable": false,
    "editable": false,
    "nbgrader": {
     "cell_type": "code",
     "checksum": "47539fa632027b3e08bfea59885866dd",
     "grade": true,
     "grade_id": "cell-25e4fda9a2fc80f4",
     "locked": true,
     "points": 20,
     "schema_version": 3,
     "solution": false,
     "task": false
    }
   },
   "outputs": [],
   "source": [
    "assert(get_first_cell_id(\"exercise-sheet-3.ipynb\") == 'cell-06eb0ab990e028e8')\n",
    "assert(get_first_cell_id(\"./exercise-files/text_a.txt\") == '')"
   ]
  }
 ],
 "metadata": {
  "kernelspec": {
   "display_name": "Python 3 (ipykernel)",
   "language": "python",
   "name": "python3"
  },
  "language_info": {
   "codemirror_mode": {
    "name": "ipython",
    "version": 3
   },
   "file_extension": ".py",
   "mimetype": "text/x-python",
   "name": "python",
   "nbconvert_exporter": "python",
   "pygments_lexer": "ipython3",
   "version": "3.10.13"
  }
 },
 "nbformat": 4,
 "nbformat_minor": 4
}
