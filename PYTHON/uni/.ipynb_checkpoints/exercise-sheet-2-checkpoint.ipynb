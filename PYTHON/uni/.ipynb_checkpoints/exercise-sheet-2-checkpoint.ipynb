{
 "cells": [
  {
   "cell_type": "markdown",
   "metadata": {
    "deletable": false,
    "editable": false,
    "nbgrader": {
     "cell_type": "markdown",
     "checksum": "a38536e28bb1d2a83f69a433104a7a5b",
     "grade": false,
     "grade_id": "cell-99bad43ad7b8adb3",
     "locked": true,
     "schema_version": 3,
     "solution": false,
     "task": false
    },
    "tags": []
   },
   "source": [
    "# Exercise Sheet 2\n",
    "## Instructions\n",
    "The instructions for this exercise sheet are the same as the previous, so this section is just a summary to serve as a reminder. Refer to the material on Moodle and at the start of Exercise Sheet 1 for more detail, and if you are unsure ask a tutor or post on the Q&A forum.\n",
    "\n",
    "Complete each question in the code cell provided, which will usually contain some skeleton code to help you start the question. Unless specified otherwise you may change the skeleton code as you wish, but your code must pass the formatting tests in the following code cell – if the cell runs without errors then your code is eligible for submission. However these will only test the basics of the question. Your code will be subject to additional hidden tests which will determine your grade. Make sure you thoroughly test your own code to check you think it works correctly before submission.\n",
    "\n",
    "**Note**: For any question which accepts a mutable input (e.g. a list), your code must not modify that input unless specified otherwise in the question."
   ]
  },
  {
   "cell_type": "markdown",
   "metadata": {
    "deletable": false,
    "editable": false,
    "nbgrader": {
     "cell_type": "markdown",
     "checksum": "38f85c34949048f6a642fc7d45bd02b3",
     "grade": false,
     "grade_id": "cell-dece66fc77ed2680",
     "locked": true,
     "schema_version": 3,
     "solution": false,
     "task": false
    }
   },
   "source": [
    "## Questions\n",
    "### Question 1\n",
    "Write a function that takes a list of items and returns a new list with the order of items reversed, without using any inbuilt Python features that will do this for you (e.g. `.reverse()` or `reversed(…)`). As specified in the instructions, your function must not modify the contents of the original list."
   ]
  },
  {
   "cell_type": "code",
   "execution_count": null,
   "metadata": {
    "deletable": false,
    "nbgrader": {
     "cell_type": "code",
     "checksum": "de9b0ab96607d54c334cd86f36bba1b1",
     "grade": false,
     "grade_id": "cell-3fe55db4c6d2fc90",
     "locked": false,
     "schema_version": 3,
     "solution": true,
     "task": false
    }
   },
   "outputs": [],
   "source": [
    "def reversed_list(in_list):\n",
    "    new = []\n",
    "    for x in range(len(in_list)-1, -1, -1):\n",
    "        new.append(in_list[x])\n",
    "    return new"
   ]
  },
  {
   "cell_type": "code",
   "execution_count": null,
   "metadata": {
    "deletable": false,
    "editable": false,
    "nbgrader": {
     "cell_type": "code",
     "checksum": "ea56eecba68ab648d70825954963dd20",
     "grade": true,
     "grade_id": "cell-4788d108c8c7a005",
     "locked": true,
     "points": 10,
     "schema_version": 3,
     "solution": false,
     "task": false
    }
   },
   "outputs": [],
   "source": [
    "assert(reversed_list([1, 2]) == [2, 1])"
   ]
  },
  {
   "cell_type": "markdown",
   "metadata": {
    "deletable": false,
    "editable": false,
    "nbgrader": {
     "cell_type": "markdown",
     "checksum": "c08a43e63ec9b2ebe80145ef862e0d72",
     "grade": false,
     "grade_id": "cell-9df9f3f2fb164eb3",
     "locked": true,
     "schema_version": 3,
     "solution": false,
     "task": false
    }
   },
   "source": [
    "### Question 2\n",
    "Now write a procedure that takes a list as an input and reverses its contents. So, the procedure should not return anything, and the inputted list *should* be modified. Of course, you still must not use inbuilt Python features which reverse lists."
   ]
  },
  {
   "cell_type": "code",
   "execution_count": null,
   "metadata": {
    "deletable": false,
    "nbgrader": {
     "cell_type": "code",
     "checksum": "bde3c76396b1d4ac0dc01cd6a80b76c8",
     "grade": false,
     "grade_id": "cell-26bdef0580e1c19c",
     "locked": false,
     "schema_version": 3,
     "solution": true,
     "task": false
    }
   },
   "outputs": [],
   "source": [
    "def reverse_list(in_list):\n",
    "    # YOUR CODE HERE\n",
    "    raise NotImplementedError()"
   ]
  },
  {
   "cell_type": "code",
   "execution_count": null,
   "metadata": {
    "deletable": false,
    "editable": false,
    "nbgrader": {
     "cell_type": "code",
     "checksum": "c08cdd44a578b00648c522b1eb47d9d7",
     "grade": true,
     "grade_id": "cell-fde78ec384676dc5",
     "locked": true,
     "points": 10,
     "schema_version": 3,
     "solution": false,
     "task": false
    }
   },
   "outputs": [],
   "source": [
    "test_in = [1, 2]\n",
    "reverse_list(test_in)\n",
    "assert(test_in == [2, 1])"
   ]
  },
  {
   "cell_type": "markdown",
   "metadata": {
    "deletable": false,
    "editable": false,
    "nbgrader": {
     "cell_type": "markdown",
     "checksum": "9c673260720e6fc7187c45fa5d82522f",
     "grade": false,
     "grade_id": "cell-7ffe2119e1048ef7",
     "locked": true,
     "schema_version": 3,
     "solution": false,
     "task": false
    }
   },
   "source": [
    "### Question 3\n",
    "Given two lists `[a1, a2, a3, …]` and `[b1, b2, b3, …]` of the same length, return a list containing pairs of items as tuples by position: a tuple containing the first item from each list, a tuple containing the second item, and so on. In other words, return `[(a1, b1), (a2, b2), …]`.\n",
    "\n",
    "This is quite a useful feature when you want to iterate over two collections at once, and it also has a inbuilt function called `zip`! Of course, you cannot use `zip` (or other similar functions) in your submission."
   ]
  },
  {
   "cell_type": "code",
   "execution_count": null,
   "metadata": {
    "deletable": false,
    "nbgrader": {
     "cell_type": "code",
     "checksum": "f602dbac394789481baad5e13e6203d1",
     "grade": false,
     "grade_id": "cell-2b3c95462f105301",
     "locked": false,
     "schema_version": 3,
     "solution": true,
     "task": false
    }
   },
   "outputs": [],
   "source": [
    "def merge(list1, list2):\n",
    "    # YOUR CODE HERE\n",
    "    raise NotImplementedError()"
   ]
  },
  {
   "cell_type": "code",
   "execution_count": null,
   "metadata": {
    "deletable": false,
    "editable": false,
    "nbgrader": {
     "cell_type": "code",
     "checksum": "b776d4024ccec92aa5da1ff04dfdde8f",
     "grade": true,
     "grade_id": "cell-328705de8fb298ac",
     "locked": true,
     "points": 10,
     "schema_version": 3,
     "solution": false,
     "task": false
    }
   },
   "outputs": [],
   "source": [
    "assert(merge([1, 2], [3, 4]) == [(1, 3), (2, 4)])"
   ]
  },
  {
   "cell_type": "markdown",
   "metadata": {
    "deletable": false,
    "editable": false,
    "nbgrader": {
     "cell_type": "markdown",
     "checksum": "8c24cdb837cb9a3b895564ee301d46cc",
     "grade": false,
     "grade_id": "cell-9fc8533f7d61e687",
     "locked": true,
     "schema_version": 3,
     "solution": false,
     "task": false
    }
   },
   "source": [
    "### Question 4\n",
    "Write another function like the one from the previous question. It should take two *non-empty* lists and create a list of tuples. The two input lists do not need to be the same length. If they are not the same length, *wrap around* the shorter list, i.e. start from the beginning again. (Hint: don't forget the *modulo* operator.) As usual, do not use `zip` or other similar inbuilt functions which implement this functionality already.\n",
    "\n",
    "So for example, given the inputs `[1, 2, 3, 4, 5]`, and `['a', 'b']`, the result should be: <br>\n",
    "`[(1, 'a'), (2, 'b'), (3, 'a'), (4, 'b'), (5, 'a')]`."
   ]
  },
  {
   "cell_type": "code",
   "execution_count": null,
   "metadata": {
    "deletable": false,
    "nbgrader": {
     "cell_type": "code",
     "checksum": "2ac434481d16192e9776267b9204726c",
     "grade": false,
     "grade_id": "cell-4e38ae067a6ac9c4",
     "locked": false,
     "schema_version": 3,
     "solution": true,
     "task": false
    }
   },
   "outputs": [],
   "source": [
    "def merge_wrap(list1, list2):\n",
    "    # YOUR CODE HERE\n",
    "    raise NotImplementedError()"
   ]
  },
  {
   "cell_type": "code",
   "execution_count": null,
   "metadata": {
    "deletable": false,
    "editable": false,
    "nbgrader": {
     "cell_type": "code",
     "checksum": "605c1b85905ded7bc76010780f0493c2",
     "grade": true,
     "grade_id": "cell-b3b03350120ec08f",
     "locked": true,
     "points": 10,
     "schema_version": 3,
     "solution": false,
     "task": false
    }
   },
   "outputs": [],
   "source": [
    "assert(merge_wrap([1, 2], [3, 4, 5]) == [(1, 3), (2, 4), (1, 5)])"
   ]
  },
  {
   "cell_type": "markdown",
   "metadata": {
    "deletable": false,
    "editable": false,
    "nbgrader": {
     "cell_type": "markdown",
     "checksum": "e515beadbff67a75ee1f402abd0f9427",
     "grade": false,
     "grade_id": "cell-cfebcaad0ad4eebc",
     "locked": true,
     "schema_version": 3,
     "solution": false,
     "task": false
    }
   },
   "source": [
    "### Question 5\n",
    "Now one more variation: this time you must write a version of the merge and wrap function which takes *any number* of nonempty lists as input, using the *varargs* syntax you saw in the material about tuples. The return value should be a single list containing a number of tuples equal to the length of the longest list from all of the arguments, where each tuple has a number of elements equal to the number of arguments. Hopefully this is obvious, but you must not use `zip` or any other similar inbuilt functions which do the work for you.\n",
    "\n",
    "See an example in the test cell below."
   ]
  },
  {
   "cell_type": "code",
   "execution_count": null,
   "metadata": {
    "deletable": false,
    "nbgrader": {
     "cell_type": "code",
     "checksum": "b7acb807641992cf28347ab5ba5750b2",
     "grade": false,
     "grade_id": "cell-855bf4e1dfa15c7b",
     "locked": false,
     "schema_version": 3,
     "solution": true,
     "task": false
    }
   },
   "outputs": [],
   "source": [
    "def merge_wrap_n(*args):\n",
    "    # YOUR CODE HERE\n",
    "    raise NotImplementedError()"
   ]
  },
  {
   "cell_type": "code",
   "execution_count": null,
   "metadata": {
    "deletable": false,
    "editable": false,
    "nbgrader": {
     "cell_type": "code",
     "checksum": "912e66447b82e26e8cbc56970d5ec738",
     "grade": true,
     "grade_id": "cell-bb2620ea2d8898af",
     "locked": true,
     "points": 10,
     "schema_version": 3,
     "solution": false,
     "task": false
    }
   },
   "outputs": [],
   "source": [
    "assert(merge_wrap_n([1, 2], [3], [4, 5, 6]) == [(1, 3, 4), (2, 3, 5), (1, 3, 6)])"
   ]
  },
  {
   "cell_type": "markdown",
   "metadata": {
    "deletable": false,
    "editable": false,
    "nbgrader": {
     "cell_type": "markdown",
     "checksum": "b17119bcdf37b07e01f88ecda1351f84",
     "grade": false,
     "grade_id": "cell-9767c453a461ed47",
     "locked": true,
     "schema_version": 3,
     "solution": false,
     "task": false
    }
   },
   "source": [
    "### Question 6\n",
    "Write a function which takes a list of numbers of length $\\ge 2$, and returns a tuple containing the *arithmetic mean* and the *unbiased sample variance* of those numbers.\n",
    "\n",
    "i.e. given a list of items $[x_1, x_2, \\dots, x_N]$, return a tuple $(m, s^2)$ where:\n",
    "\n",
    "\\begin{align} \n",
    "m &= \\frac{1}{N} \\sum_{i=1}^{N} x_i \\\\\n",
    "s^2 &= \\frac{1}{N-1} \\sum_{i=1}^{N} (x_i - m)^2 .\n",
    "\\end{align}\n",
    "\n",
    "The symbol $\\sum$ means to add up all the values in this range for the variable specified. In other words, take the value where $i=1$, add the value where $i=2$, and so on until $i=N$. So the arithmetic mean can be explained in words as: add up all the values in the list, then divide by the total number of values ($N$). For the variance you need to subtract the mean from each value and square the result, add this up, then divide by $N-1$. You are welcome to use mathematically equivalent reformulations if you prefer (and it may be more efficient to do so), just ensure you match the outputs of these formulas exactly.\n",
    "\n",
    "You must do the calculations manually, do not use inbuilt functions like `sum`, any `math` functions, etc."
   ]
  },
  {
   "cell_type": "code",
   "execution_count": null,
   "metadata": {
    "deletable": false,
    "nbgrader": {
     "cell_type": "code",
     "checksum": "e0c55287ea0b75b2087f58d98975ee97",
     "grade": false,
     "grade_id": "cell-bece9af02711a741",
     "locked": false,
     "schema_version": 3,
     "solution": true,
     "task": false
    }
   },
   "outputs": [],
   "source": [
    "def mean_variance(numbers):\n",
    "    # YOUR CODE HERE\n",
    "    raise NotImplementedError()"
   ]
  },
  {
   "cell_type": "code",
   "execution_count": null,
   "metadata": {
    "deletable": false,
    "editable": false,
    "nbgrader": {
     "cell_type": "code",
     "checksum": "941ee3899ab54ae8fba1593f0b37614a",
     "grade": true,
     "grade_id": "cell-8b8d9bd745e70c03",
     "locked": true,
     "points": 10,
     "schema_version": 3,
     "solution": false,
     "task": false
    }
   },
   "outputs": [],
   "source": [
    "assert(mean_variance([1, 2, 3]) == (2.0, 1.0))"
   ]
  },
  {
   "cell_type": "markdown",
   "metadata": {},
   "source": [
    "### Question 7\n",
    "Write a function which takes a string as an input and returns a dictionary which maps from each letter a-z (the keys), *ignoring case*, to the number of times this letter appears in the string (the values), *if the letter appears in the string* (all counts should be $\\ge 1$). The keys to the dictionary must all be *lower case*. Ignore all punctuation or whitespace."
   ]
  },
  {
   "cell_type": "code",
   "execution_count": null,
   "metadata": {
    "deletable": false,
    "nbgrader": {
     "cell_type": "code",
     "checksum": "4cc22e0e792a1ad9d51cfa3b7f669d67",
     "grade": false,
     "grade_id": "cell-f38552901de3cd4a",
     "locked": false,
     "schema_version": 3,
     "solution": true,
     "task": false
    }
   },
   "outputs": [],
   "source": [
    "def frequency_analysis(string):\n",
    "    # YOUR CODE HERE\n",
    "    raise NotImplementedError()"
   ]
  },
  {
   "cell_type": "code",
   "execution_count": null,
   "metadata": {
    "deletable": false,
    "editable": false,
    "nbgrader": {
     "cell_type": "code",
     "checksum": "8c64f64ad0082e50cba46d5715b96d3c",
     "grade": true,
     "grade_id": "cell-3f5ae3bb369a1544",
     "locked": true,
     "points": 10,
     "schema_version": 3,
     "solution": false,
     "task": false
    }
   },
   "outputs": [],
   "source": [
    "assert(frequency_analysis(\"Hello world!\") == {'h': 1, 'e': 1, 'l': 3, 'o': 2, 'w': 1, 'r': 1, 'd': 1})"
   ]
  },
  {
   "cell_type": "markdown",
   "metadata": {
    "deletable": false,
    "editable": false,
    "nbgrader": {
     "cell_type": "markdown",
     "checksum": "5d937cdc108127e4d28f877c38030908",
     "grade": false,
     "grade_id": "cell-59194840a4a0a743",
     "locked": true,
     "schema_version": 3,
     "solution": false,
     "task": false
    }
   },
   "source": [
    "### Question 8\n",
    "Write a function which takes a string as an input and returns a dictionary where the keys are the *words* from the string and the values are the *counts*, how often each word appears in the string. A word is a sequence of consecutive letters which is broken by a space, the end of the string, or any of the following punctuation symbols: `.,?!` (no other punctuation will be included in the input string). Ignore case when counting words: the dictionary's keys must be entirely in lower case. Ignore consecutive spaces or punctuation.\n",
    "\n",
    "You are *encouraged* to make use of the various [string methods](https://docs.python.org/3/library/stdtypes.html#string-methods) available in Python."
   ]
  },
  {
   "cell_type": "code",
   "execution_count": null,
   "metadata": {
    "deletable": false,
    "nbgrader": {
     "cell_type": "code",
     "checksum": "927513a319f3533213c2a42b78409938",
     "grade": false,
     "grade_id": "cell-441b97aa02b39592",
     "locked": false,
     "schema_version": 3,
     "solution": true,
     "task": false
    }
   },
   "outputs": [],
   "source": [
    "def count_words(string):\n",
    "    # YOUR CODE HERE\n",
    "    raise NotImplementedError()"
   ]
  },
  {
   "cell_type": "code",
   "execution_count": null,
   "metadata": {
    "deletable": false,
    "editable": false,
    "nbgrader": {
     "cell_type": "code",
     "checksum": "e4ebbe710bc2bf39563014a898735da1",
     "grade": true,
     "grade_id": "cell-1d02a1dcee1ca237",
     "locked": true,
     "points": 10,
     "schema_version": 3,
     "solution": false,
     "task": false
    }
   },
   "outputs": [],
   "source": [
    "assert(count_words(\"Hello world!\") == {\"hello\": 1, \"world\": 1})\n",
    "assert(count_words(\"The Bart, the\") == {\"the\": 2, \"bart\": 1})"
   ]
  },
  {
   "cell_type": "markdown",
   "metadata": {
    "deletable": false,
    "editable": false,
    "nbgrader": {
     "cell_type": "markdown",
     "checksum": "6c966b291bdfbdbbf519e43cfa7e26b3",
     "grade": false,
     "grade_id": "cell-782f087615208146",
     "locked": true,
     "schema_version": 3,
     "solution": false,
     "task": false
    }
   },
   "source": [
    "### Question 9\n",
    "In this question you will implement the [sieve of Eratosthenes](https://en.wikipedia.org/wiki/Sieve_of_Eratosthenes), a method for finding prime numbers. A prime number is any integer which is divisible by exactly two numbers: $1$ and itself. The basic idea is that you start with a list (or equivalent) of all the numbers from $2$ to $N$, then you repeat the following two steps:\n",
    "* remove the first element from the list, this is your next prime number, call it $p$\n",
    "* remove every element from the rest of the which is a multiple of $p$\n",
    "\n",
    "By repeating these steps you fill find every prime number up to $N$. There are various optimisations you can perform, but this basic idea is sufficient for this exercise.\n",
    "\n",
    "For this question, write a function which takes a single integer `n` and returns a *set* containing all of the prime numbers up to *and including* `n`."
   ]
  },
  {
   "cell_type": "code",
   "execution_count": null,
   "metadata": {
    "deletable": false,
    "nbgrader": {
     "cell_type": "code",
     "checksum": "a7c7f2eb002f2b5b9cfe271740d40a52",
     "grade": false,
     "grade_id": "cell-657584a91cd8771d",
     "locked": false,
     "schema_version": 3,
     "solution": true,
     "task": false
    }
   },
   "outputs": [],
   "source": [
    "def sieve(n):\n",
    "    # YOUR CODE HERE\n",
    "    raise NotImplementedError()"
   ]
  },
  {
   "cell_type": "code",
   "execution_count": null,
   "metadata": {
    "deletable": false,
    "editable": false,
    "nbgrader": {
     "cell_type": "code",
     "checksum": "c27c0daf2553312404407603533aa1cf",
     "grade": true,
     "grade_id": "cell-8203fc04b66a67e8",
     "locked": true,
     "points": 10,
     "schema_version": 3,
     "solution": false,
     "task": false
    }
   },
   "outputs": [],
   "source": [
    "assert(sieve(10) == {2, 3, 5, 7})"
   ]
  },
  {
   "cell_type": "markdown",
   "metadata": {
    "deletable": false,
    "editable": false,
    "nbgrader": {
     "cell_type": "markdown",
     "checksum": "634cbaeb24dc88257db5fa9ee0b5d6ed",
     "grade": false,
     "grade_id": "cell-159908e6e0c0fbc8",
     "locked": true,
     "schema_version": 3,
     "solution": false,
     "task": false
    }
   },
   "source": [
    "### Question 10\n",
    "In this question you need to write three functions, all of which return 2D lists with a given pattern made up of single-character strings containing either a hash symbol `'#'` or a space `' '`.\n",
    "\n",
    "The three patterns are:\n",
    "* `rectangle(n, m)`, where $n\\ge2$ and $m\\ge2$, must produce an `n` by `m` rectangle outline, e.g:\n",
    "  ```\n",
    "  rectangle(3, 3) returns\n",
    "      [['#', '#', '#'], \n",
    "       ['#', ' ', '#'], \n",
    "       ['#', '#', '#']]\n",
    "       \n",
    "  rectangle(4, 5) returns\n",
    "      [['#', '#', '#', '#', '#'],\n",
    "       ['#', ' ', ' ', ' ', '#'],\n",
    "       ['#', ' ', ' ', ' ', '#'],\n",
    "       ['#', '#', '#', '#', '#']]\n",
    "  ```\n",
    "* `diamond(n)`, where $n\\ge3$, must produce an `n` by `n` filled diamond, where odd sized diamonds are one hash wide at their points, and even shaped diamonds are two hashes wide, e.g.:\n",
    "  ```\n",
    "  diamond(5) returns\n",
    "      [[' ', ' ', '#', ' ', ' '],\n",
    "       [' ', '#', '#', '#', ' '],\n",
    "       ['#', '#', '#', '#', '#'],\n",
    "       [' ', '#', '#', '#', ' '],\n",
    "       [' ', ' ', '#', ' ', ' ']]\n",
    "       \n",
    "  diamond(6) returns\n",
    "      [[' ', ' ', '#', '#', ' ', ' '],\n",
    "       [' ', '#', '#', '#', '#', ' '],\n",
    "       ['#', '#', '#', '#', '#', '#'],\n",
    "       ['#', '#', '#', '#', '#', '#'],\n",
    "       [' ', '#', '#', '#', '#', ' '],\n",
    "       [' ', ' ', '#', '#', ' ', ' ']]\n",
    "  ```\n",
    "* `chequerboard(n, m, c_h, c_w)`, all arguments $\\ge1$, returns an `n` by `m` chequerboard where each chequer (region) is of size `c_h` by `c_w`, the top left cell is *always* filled, and *only* the right hand and bottom edge may contain incomplete chequers, e.g.:\n",
    "  ```\n",
    "  chequerboard(6, 8, 2, 2) returns\n",
    "      [['#', '#', ' ', ' ', '#', '#', ' ', ' '],\n",
    "       ['#', '#', ' ', ' ', '#', '#', ' ', ' '],\n",
    "       [' ', ' ', '#', '#', ' ', ' ', '#', '#'],\n",
    "       [' ', ' ', '#', '#', ' ', ' ', '#', '#'],\n",
    "       ['#', '#', ' ', ' ', '#', '#', ' ', ' '],\n",
    "       ['#', '#', ' ', ' ', '#', '#', ' ', ' ']]\n",
    "      \n",
    "  chequerboard(5, 7, 2, 3) returns\n",
    "      [['#', '#', '#', ' ', ' ', ' ', '#'],\n",
    "       ['#', '#', '#', ' ', ' ', ' ', '#'],\n",
    "       [' ', ' ', ' ', '#', '#', '#', ' '],\n",
    "       [' ', ' ', ' ', '#', '#', '#', ' '],\n",
    "       ['#', '#', '#', ' ', ' ', ' ', '#']]\n",
    "  ```\n",
    "  \n",
    "  \n",
    "For this question, `rectangle(n, m)` is worth a maximum of 2 marks, `diamond(n)` is worth 3 marks, and `chequerboard(…)` is worth 5 marks."
   ]
  },
  {
   "cell_type": "code",
   "execution_count": null,
   "metadata": {
    "deletable": false,
    "nbgrader": {
     "cell_type": "code",
     "checksum": "35a2217566065dcafe39591d5a113188",
     "grade": false,
     "grade_id": "cell-1d1b2cff91c4b309",
     "locked": false,
     "schema_version": 3,
     "solution": true,
     "task": false
    }
   },
   "outputs": [],
   "source": [
    "def rectangle(n, m):\n",
    "    # YOUR CODE HERE\n",
    "    raise NotImplementedError()\n",
    "    \n",
    "def diamond(n):\n",
    "    # YOUR CODE HERE\n",
    "    raise NotImplementedError()\n",
    "    \n",
    "def chequerboard(n, m, c_h, c_w):\n",
    "    # YOUR CODE HERE\n",
    "    raise NotImplementedError()"
   ]
  },
  {
   "cell_type": "code",
   "execution_count": null,
   "metadata": {
    "deletable": false,
    "editable": false,
    "nbgrader": {
     "cell_type": "code",
     "checksum": "8576c25d18b5a6e89cd399b9cdcf24ad",
     "grade": true,
     "grade_id": "cell-699d6450bbd8bbd9",
     "locked": true,
     "points": 10,
     "schema_version": 3,
     "solution": false,
     "task": false
    }
   },
   "outputs": [],
   "source": [
    "rect = [['#', '#', '#'], \n",
    "        ['#', ' ', '#'], \n",
    "        ['#', '#', '#']]\n",
    "\n",
    "diam = [[' ', '#', ' '], \n",
    "        ['#', '#', '#'], \n",
    "        [' ', '#', ' ']]\n",
    "\n",
    "cheq = [['#', ' ', '#'], \n",
    "        [' ', '#', ' '], \n",
    "        ['#', ' ', '#']]\n",
    "\n",
    "assert(rectangle(3, 3) == rect)\n",
    "assert(diamond(3) == diam)\n",
    "assert(chequerboard(3, 3, 1, 1) == cheq)"
   ]
  }
 ],
 "metadata": {
  "kernelspec": {
   "display_name": "Python 3 (ipykernel)",
   "language": "python",
   "name": "python3"
  },
  "language_info": {
   "codemirror_mode": {
    "name": "ipython",
    "version": 3
   },
   "file_extension": ".py",
   "mimetype": "text/x-python",
   "name": "python",
   "nbconvert_exporter": "python",
   "pygments_lexer": "ipython3",
   "version": "3.11.5"
  }
 },
 "nbformat": 4,
 "nbformat_minor": 4
}
