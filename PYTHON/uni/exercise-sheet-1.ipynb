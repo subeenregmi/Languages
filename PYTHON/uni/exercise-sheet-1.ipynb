{
 "cells": [
  {
   "cell_type": "markdown",
   "metadata": {
    "deletable": false,
    "editable": false,
    "nbgrader": {
     "cell_type": "markdown",
     "checksum": "673580ed1b5e782c5d5745ca40dca50f",
     "grade": false,
     "grade_id": "cell-2b65f2795aaaa2b9",
     "locked": true,
     "schema_version": 3,
     "solution": false,
     "task": false
    },
    "tags": []
   },
   "source": [
    "# Exercise Sheet 1\n",
    "## Instructions\n",
    "\n",
    "Each exercise is spread across three Jupyter notebook cells:\n",
    "* A text cell (like this one) introducing the exercise\n",
    "* A code cell where you can fill your solution, which may include some code already pre-filled for you to modify\n",
    "* A code cell containing tests\n",
    "\n",
    "Each test cell will normally include visible tests that you must run yourself to check your submission is working and in the format we expect. If you can run the cell and nothing happens, the tests are passing. These tests are mandatory, and do not typically include challenging test cases. If your submission does not pass these tests then it may receive zero marks for the exercise.\n",
    "\n",
    "The test cell also contains hidden tests, and these will be used to actually determine your grade for the exercise. So you must also test your code on additional inputs that you determine yourself. This is part of writing code, you need to check that it works.\n",
    "\n",
    "Unless otherwise specified, you do not need to ensure that your code is robust for unusual inputs. If the exercise states that the input will be a number, you can expect the input to be a number, you do not need to check if it is a string.\n",
    "\n",
    "You can test your code in the middle code cell or add additional cells to the notebook, but please delete these before your final submission, which should just be the exercise code itself.\n",
    "\n",
    "In general, unless the exercise instructions state otherwise, you can feel free to modify any skeleton code that has been provided provided the test cell still runs successfully.\n",
    "\n",
    "The provided code raise NotImplementedError() is just a placeholder, please delete it after you add your own code."
   ]
  },
  {
   "cell_type": "markdown",
   "metadata": {
    "deletable": false,
    "editable": false,
    "nbgrader": {
     "cell_type": "markdown",
     "checksum": "bb30b62b206ff0315100c033b1ef7049",
     "grade": false,
     "grade_id": "cell-340b37bc49d865d9",
     "locked": true,
     "schema_version": 3,
     "solution": false,
     "task": false
    }
   },
   "source": [
    "## Questions\n",
    "### Question 1\n",
    "Write a function that takes a single number, adds 3 to that number, then multiplies the result by 2, then subtracts 4, then subtracts twice the original number, then adds 3, and returns the result."
   ]
  },
  {
   "cell_type": "code",
   "execution_count": 5,
   "metadata": {
    "deletable": false,
    "nbgrader": {
     "cell_type": "code",
     "checksum": "8e826dadf56c19c015c689be02a43777",
     "grade": false,
     "grade_id": "cell-8ec771280bdacf20",
     "locked": false,
     "schema_version": 3,
     "solution": true,
     "task": false
    }
   },
   "outputs": [
    {
     "name": "stdout",
     "output_type": "stream",
     "text": [
      "5\n"
     ]
    }
   ],
   "source": [
    "def process_number(x):\n",
    "    # YOUR CODE HERE\n",
    "    return 2*(x+3) - 4 - 2*x + 3 #always returns 5"
   ]
  },
  {
   "cell_type": "code",
   "execution_count": 3,
   "metadata": {
    "deletable": false,
    "editable": false,
    "nbgrader": {
     "cell_type": "code",
     "checksum": "2f02ff53bc3f7bb695e48b67525b0089",
     "grade": true,
     "grade_id": "cell-37523cf9c5e087d0",
     "locked": true,
     "points": 10,
     "schema_version": 3,
     "solution": false,
     "task": false
    }
   },
   "outputs": [],
   "source": [
    "# This is a test cell, if it runs without errors then your code is in the correct format for submission\n",
    "# but you must still perform your own testing to ensure you are happy your answer is correct.\n",
    "assert(process_number(5) == 5)"
   ]
  },
  {
   "cell_type": "markdown",
   "metadata": {
    "deletable": false,
    "editable": false,
    "nbgrader": {
     "cell_type": "markdown",
     "checksum": "2460a375610062bb9b1f905ff6aefeba",
     "grade": false,
     "grade_id": "cell-5ce9eaef5e997bbd",
     "locked": true,
     "schema_version": 3,
     "solution": false,
     "task": false
    }
   },
   "source": [
    "### Question 2\n",
    "Write a function which converts a length given in centimetres to feet. You will likely need to look up the formula for this conversion online, try to be as exact as possible!"
   ]
  },
  {
   "cell_type": "code",
   "execution_count": 6,
   "metadata": {
    "deletable": false,
    "nbgrader": {
     "cell_type": "code",
     "checksum": "ab42c92deb273dc82b1babbd76ed2248",
     "grade": false,
     "grade_id": "cell-62ec441834039e8b",
     "locked": false,
     "schema_version": 3,
     "solution": true,
     "task": false
    }
   },
   "outputs": [],
   "source": [
    "def centimetres_to_feet(cm):\n",
    "    # YOUR CODE HERE\n",
    "    # 1 foot = 30.48 cm \n",
    "    return cm / 30.48"
   ]
  },
  {
   "cell_type": "code",
   "execution_count": 7,
   "metadata": {
    "deletable": false,
    "editable": false,
    "nbgrader": {
     "cell_type": "code",
     "checksum": "d943bb959469f29bf9d10084bc44dd70",
     "grade": true,
     "grade_id": "cell-8d322b244bce8acb",
     "locked": true,
     "points": 10,
     "schema_version": 3,
     "solution": false,
     "task": false
    }
   },
   "outputs": [],
   "source": [
    "assert(centimetres_to_feet(0) == 0.0)"
   ]
  },
  {
   "cell_type": "markdown",
   "metadata": {
    "deletable": false,
    "editable": false,
    "nbgrader": {
     "cell_type": "markdown",
     "checksum": "992a1171db233e6397bac8a5615dfaa8",
     "grade": false,
     "grade_id": "cell-6d5c71aa74b53bca",
     "locked": true,
     "schema_version": 3,
     "solution": false,
     "task": false
    }
   },
   "source": [
    "### Question 3\n",
    "Write a function that takes two integers `x` and `y`. It should return a string containing the integer `x` repeated `y` times. See the provided tests below for examples."
   ]
  },
  {
   "cell_type": "code",
   "execution_count": 13,
   "metadata": {
    "deletable": false,
    "nbgrader": {
     "cell_type": "code",
     "checksum": "4d29d0a0cde01f66b970eecb1af43fff",
     "grade": false,
     "grade_id": "cell-a80faf28af2fff25",
     "locked": false,
     "schema_version": 3,
     "solution": true,
     "task": false
    }
   },
   "outputs": [],
   "source": [
    "def repeat_int_str(x, y):\n",
    "    # YOUR CODE HERE\n",
    "    # ensure that y has to be above zero\n",
    "    if y<=0: \n",
    "        return \"\"\n",
    "    return str(x)*y"
   ]
  },
  {
   "cell_type": "code",
   "execution_count": 10,
   "metadata": {
    "deletable": false,
    "editable": false,
    "nbgrader": {
     "cell_type": "code",
     "checksum": "f2ae28cac3529d595430dbcc6f823128",
     "grade": true,
     "grade_id": "cell-abad8e6be2aa33b3",
     "locked": true,
     "points": 10,
     "schema_version": 3,
     "solution": false,
     "task": false
    }
   },
   "outputs": [],
   "source": [
    "assert(repeat_int_str(0, 4) == \"0000\")\n",
    "assert(repeat_int_str(-5, 3) == \"-5-5-5\")"
   ]
  },
  {
   "cell_type": "markdown",
   "metadata": {
    "deletable": false,
    "editable": false,
    "nbgrader": {
     "cell_type": "markdown",
     "checksum": "9d62f6f6c686e718188a402261817990",
     "grade": false,
     "grade_id": "cell-0895d49e22f7449c",
     "locked": true,
     "schema_version": 3,
     "solution": false,
     "task": false
    }
   },
   "source": [
    "### Question 4\n",
    "Now write a function similar to the one above, that takes two integers `x` and `y`, but this time produces a string *of length* `y` made up of repeated copies of `x`."
   ]
  },
  {
   "cell_type": "code",
   "execution_count": 26,
   "metadata": {
    "deletable": false,
    "nbgrader": {
     "cell_type": "code",
     "checksum": "a46ef0dfce9c5a50be8c9be323aaa717",
     "grade": false,
     "grade_id": "cell-9ce26ef0a58e99bb",
     "locked": false,
     "schema_version": 3,
     "solution": true,
     "task": false
    }
   },
   "outputs": [
    {
     "name": "stdout",
     "output_type": "stream",
     "text": [
      "132\n"
     ]
    }
   ],
   "source": [
    "def repeat_int_length(x, y):\n",
    "    # YOUR CODE HERE\n",
    "    if y<= 0: \n",
    "        return \"\"\n",
    "    # repeat the stringified version of x by y//len(x) times and then add the remainder needed \n",
    "    a = str(x)\n",
    "    b = a * (y // len(a)) \n",
    "    if y%len(a) != 0: \n",
    "        b += a[0:y%len(a)]\n",
    "    return b\n",
    "    \n",
    "print(repeat_int_length(1323, 3))"
   ]
  },
  {
   "cell_type": "code",
   "execution_count": 27,
   "metadata": {
    "deletable": false,
    "editable": false,
    "nbgrader": {
     "cell_type": "code",
     "checksum": "73972e174299e066853d2f9a3fe9e115",
     "grade": true,
     "grade_id": "cell-b0c00ceb2ed4ab1b",
     "locked": true,
     "points": 10,
     "schema_version": 3,
     "solution": false,
     "task": false
    }
   },
   "outputs": [],
   "source": [
    "assert(repeat_int_length(10, 4) == \"1010\")\n",
    "assert(repeat_int_length(-5, 3) == \"-5-\")"
   ]
  },
  {
   "cell_type": "markdown",
   "metadata": {
    "deletable": false,
    "editable": false,
    "nbgrader": {
     "cell_type": "markdown",
     "checksum": "fcccf9f8ae58af8d0324f2af44a30412",
     "grade": false,
     "grade_id": "cell-600195195d67239a",
     "locked": true,
     "schema_version": 3,
     "solution": false,
     "task": false
    }
   },
   "source": [
    "### Question 5\n",
    "One more time, write another function which takes arguments `x` and `y`, and produces a string of length `y` made of repeated copies of `x`, ***but*** this time, if `x` is negative do not repeat the negative sign, only the digits. Again, see the examples in the tests below for clarification."
   ]
  },
  {
   "cell_type": "code",
   "execution_count": 62,
   "metadata": {
    "deletable": false,
    "nbgrader": {
     "cell_type": "code",
     "checksum": "f9d8e69b9c59542b1677cfe173a22445",
     "grade": false,
     "grade_id": "cell-ece9e5b5e185e772",
     "locked": false,
     "schema_version": 3,
     "solution": true,
     "task": false
    }
   },
   "outputs": [],
   "source": [
    "def repeat_int_no_minus(x, y):\n",
    "    # YOUR CODE HERE\n",
    "    if y<=0:\n",
    "        return \"\"\n",
    "    \n",
    "    a = str(x)\n",
    "    b = a\n",
    "    c = y\n",
    "    if x < 0:\n",
    "        y -= len(a)\n",
    "        a = str(-x)\n",
    "    b += a * (y // len(a))\n",
    "    if y % len(a) != 0:\n",
    "        b += a[0:y%len(a)]\n",
    "    return b[0:c]"
   ]
  },
  {
   "cell_type": "code",
   "execution_count": 58,
   "metadata": {
    "deletable": false,
    "editable": false,
    "nbgrader": {
     "cell_type": "code",
     "checksum": "7fbf4d2e6e30847e4f3d4ffaba3ba48b",
     "grade": true,
     "grade_id": "cell-7ba13193fa2aeee2",
     "locked": true,
     "points": 10,
     "schema_version": 3,
     "solution": false,
     "task": false
    }
   },
   "outputs": [],
   "source": [
    "assert(repeat_int_no_minus(-5, 5) == \"-5555\")\n",
    "assert(repeat_int_no_minus(-343, 3) == \"-34\")"
   ]
  },
  {
   "cell_type": "markdown",
   "metadata": {
    "deletable": false,
    "editable": false,
    "nbgrader": {
     "cell_type": "markdown",
     "checksum": "50779882d6eb936fbc74a45558928fe4",
     "grade": false,
     "grade_id": "cell-104b9efeda5a3294",
     "locked": true,
     "schema_version": 3,
     "solution": false,
     "task": false
    }
   },
   "source": [
    "### Question 6\n",
    "Remember that strings can be compared using `<` and `>`. If you are comparing characters that are the same case (both UPPER CASE or both lower case), then `<` and `>` will compare the characters alphabetically. So `\"a\" < \"z\"` evaluates to `True`. \n",
    "\n",
    "Write a function that takes an input string all in lower case and finds the smallest (alphabetically first) *letter* from (a-z). Importantly, note that some special characters (like spaces) might be considered “smaller” and so must be ignored, i.e. `\" \" < \"a\"` evaluates to `True`. If the input string contains no lower case letters from a-z, return an empty string."
   ]
  },
  {
   "cell_type": "code",
   "execution_count": 79,
   "metadata": {
    "deletable": false,
    "nbgrader": {
     "cell_type": "code",
     "checksum": "b4614b88da2f2468f33045f6c552f2d8",
     "grade": false,
     "grade_id": "cell-62b319d167ceab6f",
     "locked": false,
     "schema_version": 3,
     "solution": true,
     "task": false
    }
   },
   "outputs": [],
   "source": [
    "def smallest_letter(string):\n",
    "    # YOUR CODE HERE\n",
    "    if string == \" \"*len(string):\n",
    "        return \"\"\n",
    "        \n",
    "    smallest = string[0]\n",
    "    for x in string[1:]:\n",
    "        if (x < \"a\") or (x > \"z\"):\n",
    "            continue\n",
    "        if (smallest < \"a\") or (smallest > \"z\"):\n",
    "            smallest = x\n",
    "        if x < smallest:\n",
    "            smallest = x\n",
    "    return smallest"
   ]
  },
  {
   "cell_type": "code",
   "execution_count": 80,
   "metadata": {
    "deletable": false,
    "editable": false,
    "nbgrader": {
     "cell_type": "code",
     "checksum": "80eb2d59631243a3b2ea9fdc537bbc66",
     "grade": true,
     "grade_id": "cell-48d46b3c2804273d",
     "locked": true,
     "points": 10,
     "schema_version": 3,
     "solution": false,
     "task": false
    }
   },
   "outputs": [],
   "source": [
    "assert(smallest_letter(\"hello world\") == \"d\")\n",
    "assert(smallest_letter(\" \") == \"\")"
   ]
  },
  {
   "cell_type": "markdown",
   "metadata": {
    "deletable": false,
    "editable": false,
    "nbgrader": {
     "cell_type": "markdown",
     "checksum": "211dee4476b88df54935a69698700e63",
     "grade": false,
     "grade_id": "cell-958dc7ed10e138d9",
     "locked": true,
     "schema_version": 3,
     "solution": false,
     "task": false
    }
   },
   "source": [
    "### Question 7\n",
    "The reason why we can compare strings alphabetically using `<` and `>`, but only for characters of the same case, is because it is *actually* comparing the [character values](https://en.wikipedia.org/wiki/List_of_Unicode_characters#Latin_script). Python uses Unicode for its characters, but you might also hear people refer to ASCII character values too, since Unicode is backwards compatible and uses the same values for basic Latin script, numerals, and the symbols you find on a UK keyboard.\n",
    "\n",
    "You can convert a single-character string into its character value using the inbuilt function `ord`, and you can convert back from a number into a single-character string using `chr`. So `ord(\"A\") == 65` and `chr(65) == \"A\"`. Since each character's value is sequential (A is 65, B is 66, …), if you think about it, you can use these functions to convert between cases. You can also use string methods like `.lower()` and `.upper()`.\n",
    "\n",
    "Now, armed with this new information, write a function which works the same as the previous question except it produces the smallest alphabetical letter *of either case*. If the string contains an upper and lower case character which is alphabetically first, return the value of the character which occurs first in the string. The case of the return value must match the input. See the tests for clarifying examples."
   ]
  },
  {
   "cell_type": "code",
   "execution_count": 91,
   "metadata": {
    "deletable": false,
    "nbgrader": {
     "cell_type": "code",
     "checksum": "b17fdb0d735c0535d2819f0aa10e70e9",
     "grade": false,
     "grade_id": "cell-b1729d6895302bf6",
     "locked": false,
     "schema_version": 3,
     "solution": true,
     "task": false
    }
   },
   "outputs": [],
   "source": [
    "def smallest_ignore_case(string):\n",
    "    # YOUR CODE HERE\n",
    "    if string == \" \"*len(string):\n",
    "        return \"\"\n",
    "    \n",
    "    smallest = string[0]\n",
    "    for x in string[1:]:\n",
    "        if (x.lower() < \"a\") or (x.lower() > \"z\"):\n",
    "            continue\n",
    "        if (smallest.lower() < \"a\") or (smallest.lower() > \"z\"):\n",
    "            smallest = x\n",
    "        if x.lower() < smallest.lower():\n",
    "            smallest = x\n",
    "    return smallest"
   ]
  },
  {
   "cell_type": "code",
   "execution_count": 92,
   "metadata": {
    "deletable": false,
    "editable": false,
    "nbgrader": {
     "cell_type": "code",
     "checksum": "4eb6eacc1e139c7943dce8e01e659ca6",
     "grade": true,
     "grade_id": "cell-96eff72adde04801",
     "locked": true,
     "points": 10,
     "schema_version": 3,
     "solution": false,
     "task": false
    }
   },
   "outputs": [],
   "source": [
    "assert(smallest_ignore_case(\"Hello World\") == \"d\")\n",
    "assert(smallest_ignore_case(\"HeLLo WorLD\") == \"D\")\n",
    "assert(smallest_ignore_case(\"What an AARDVARK!\") == \"a\")"
   ]
  },
  {
   "cell_type": "markdown",
   "metadata": {
    "deletable": false,
    "editable": false,
    "nbgrader": {
     "cell_type": "markdown",
     "checksum": "d12d8e086e4e0b11aee1aa07d91afb13",
     "grade": false,
     "grade_id": "cell-865289505758576c",
     "locked": true,
     "schema_version": 3,
     "solution": false,
     "task": false
    }
   },
   "source": [
    "### Question 8\n",
    "Write a function which takes a string as input and returns the biggest distance between any two letters (a-z ignoring case). Distance in this case means the number of letters apart in the alphabet, so the distance between `\"a\"` and `\"b\"` is `1`, the distance between `\"a\"` and `\"Z\"` is `25`. If the string contains no letters return `-1`."
   ]
  },
  {
   "cell_type": "code",
   "execution_count": 113,
   "metadata": {
    "deletable": false,
    "nbgrader": {
     "cell_type": "code",
     "checksum": "03e358ee1772cf3534718764500f4c87",
     "grade": false,
     "grade_id": "cell-cdb03a89c16be097",
     "locked": false,
     "schema_version": 3,
     "solution": true,
     "task": false
    }
   },
   "outputs": [
    {
     "name": "stdout",
     "output_type": "stream",
     "text": [
      "-1\n"
     ]
    }
   ],
   "source": [
    "def biggest_letter_distance(string):\n",
    "    # YOUR CODE HERE\n",
    "    NoLetters = True\n",
    "    if string == \" \"*len(string):\n",
    "        return -1\n",
    "    \n",
    "    smallest = string[0]\n",
    "    biggest = string[0]\n",
    "    for x in string[0:]:\n",
    "        x = x.lower()\n",
    "        if (x < \"a\") or (x > \"z\"):\n",
    "            continue\n",
    "        NoLetters = False\n",
    "        if (smallest < \"a\") or (smallest > \"z\"):\n",
    "            smallest = x\n",
    "        if (biggest < \"a\") or (biggest > \"z\"):\n",
    "            biggest = x\n",
    "        if x < smallest:\n",
    "            smallest = x\n",
    "        if x > biggest: \n",
    "            biggest = x\n",
    "        \n",
    "    if NoLetters:\n",
    "        return -1\n",
    "        \n",
    "    return ord(biggest) - ord(smallest)"
   ]
  },
  {
   "cell_type": "raw",
   "metadata": {
    "deletable": false,
    "editable": false,
    "nbgrader": {
     "cell_type": "code",
     "checksum": "e67b1c4c1c03d6712a3f9e8e18f95ba8",
     "grade": true,
     "grade_id": "cell-4e3bc1006f3cde9a",
     "locked": true,
     "points": 10,
     "schema_version": 3,
     "solution": false,
     "task": false
    }
   },
   "source": [
    "assert(biggest_letter_distance(\"Hello World\") == 19)\n",
    "assert(biggest_letter_distance(\"!!\") == -1)"
   ]
  },
  {
   "cell_type": "markdown",
   "metadata": {
    "deletable": false,
    "editable": false,
    "nbgrader": {
     "cell_type": "markdown",
     "checksum": "c8050d81f515d7f6ec5e6cd2cb1258b5",
     "grade": false,
     "grade_id": "cell-0ad135a8f7000c63",
     "locked": true,
     "schema_version": 3,
     "solution": false,
     "task": false
    }
   },
   "source": [
    "### Question 9\n",
    "In the following cell the programmer has been experimenting with writing a function that can take either two or three arguments. However, they have made a mistake with their syntax. Find the mistake and fix the code so that it behaves the way they are expecting."
   ]
  },
  {
   "cell_type": "code",
   "execution_count": 137,
   "metadata": {
    "deletable": false,
    "nbgrader": {
     "cell_type": "code",
     "checksum": "0a3f94131840741074efc88e7679c537",
     "grade": false,
     "grade_id": "cell-8b1227a02347648d",
     "locked": false,
     "schema_version": 3,
     "solution": true,
     "task": false
    }
   },
   "outputs": [
    {
     "name": "stdout",
     "output_type": "stream",
     "text": [
      "1\n"
     ]
    }
   ],
   "source": [
    "def my_function2(a, b):\n",
    "    if a < b:\n",
    "        return a ** 2 + b\n",
    "    else:\n",
    "        return b\n",
    "\n",
    "def my_function(a, b, c=None):\n",
    "    if c is None:\n",
    "        return my_function2(a, b)\n",
    "    if c < a and c < b:\n",
    "        return c ** 3 + a ** 2 + b"
   ]
  },
  {
   "cell_type": "code",
   "execution_count": 136,
   "metadata": {
    "deletable": false,
    "editable": false,
    "nbgrader": {
     "cell_type": "code",
     "checksum": "6c4b06cf5a02c808cb50934d2a188b56",
     "grade": true,
     "grade_id": "cell-cf0fd922b0a9b735",
     "locked": true,
     "points": 10,
     "schema_version": 3,
     "solution": false,
     "task": false
    }
   },
   "outputs": [],
   "source": [
    "assert(my_function(4, 5, 3) == 48)\n",
    "assert(my_function(2, 1) == 1)"
   ]
  },
  {
   "cell_type": "markdown",
   "metadata": {
    "deletable": false,
    "editable": false,
    "nbgrader": {
     "cell_type": "markdown",
     "checksum": "73641c508135401cead54b6b86835d4c",
     "grade": false,
     "grade_id": "cell-07bc34d78372c95e",
     "locked": true,
     "schema_version": 3,
     "solution": false,
     "task": false
    }
   },
   "source": [
    "### Question 10\n",
    "In the following code cell, a programmer has tried to re-implement the `*` and `//` operators as recursive functions that only use addition and subtraction; no other arithmetic operators (obviously `*` and `//` are not allowed) and no functions like `abs`. We saw an example of multiplication using addition in the unit material already using a loop, and the recursive version is a similar idea. Both functions should work for all reasonably-sized integer inputs `x` and `y`, the programmer is not trying to make them efficient. They should produce *exactly* the same results as the `*` and `//` operators.\n",
    "\n",
    "Unfortunately the programmer has made some errors in their code. For this exercise, debug the code to find and fix all of the errors. Bear in mind that just getting the code to run does not mean you are done, as usual you will need to test the code with various inputs yourself before submitting. This will likely require tracing the code by hand keeping track of the values, even through layers of recursion!"
   ]
  },
  {
   "cell_type": "code",
   "execution_count": 196,
   "metadata": {
    "deletable": false,
    "nbgrader": {
     "cell_type": "code",
     "checksum": "75abc95d25c57e95b24e271f17fb5559",
     "grade": false,
     "grade_id": "cell-09b65380a7494ba7",
     "locked": false,
     "schema_version": 3,
     "solution": true,
     "task": false
    }
   },
   "outputs": [],
   "source": [
    "def multiply(x, y):\n",
    "    if y == 0:\n",
    "        return 0\n",
    "    if y > 0:\n",
    "        return x + multiply(x, y-1)\n",
    "    if y < 0:\n",
    "        return -x + multiply(x, y+1)\n",
    "    \n",
    "def divide(x, y):\n",
    "    if x < 0 and y < 0:\n",
    "        return divide(-x, -y)\n",
    "    if x < 0 or y < 0:\n",
    "        return -1 * divide(-x, y)\n",
    "    else:\n",
    "        return divide_helper(x, y, 0)\n",
    "\n",
    "def divide_helper(x, y, temp):\n",
    "    if y == 1:\n",
    "        return x\n",
    "    if y == 0:\n",
    "        raise Exception(\"Division by zero\")\n",
    "    if y == x:\n",
    "        return 1\n",
    "    if y > x: \n",
    "        return 0\n",
    "    else:\n",
    "        return 1 + divide_helper(x - y, y, temp + 1)"
   ]
  },
  {
   "cell_type": "code",
   "execution_count": 177,
   "metadata": {
    "deletable": false,
    "editable": false,
    "nbgrader": {
     "cell_type": "code",
     "checksum": "2480e49b3d7bfd0843fd54b79ab70b1a",
     "grade": true,
     "grade_id": "cell-e1ddc5f3ee96a7d5",
     "locked": true,
     "points": 10,
     "schema_version": 3,
     "solution": false,
     "task": false
    }
   },
   "outputs": [],
   "source": [
    "assert(multiply(3, 5) == 3 * 5)\n",
    "assert(divide(13, 3) == 13 // 3)\n",
    "# note: using * or // (or similar) in your submission will result in zero marks!"
   ]
  },
  {
   "cell_type": "code",
   "execution_count": null,
   "metadata": {},
   "outputs": [],
   "source": []
  }
 ],
 "metadata": {
  "kernelspec": {
   "display_name": "Python 3 (ipykernel)",
   "language": "python",
   "name": "python3"
  },
  "language_info": {
   "codemirror_mode": {
    "name": "ipython",
    "version": 3
   },
   "file_extension": ".py",
   "mimetype": "text/x-python",
   "name": "python",
   "nbconvert_exporter": "python",
   "pygments_lexer": "ipython3",
   "version": "3.9.10"
  }
 },
 "nbformat": 4,
 "nbformat_minor": 4
}
